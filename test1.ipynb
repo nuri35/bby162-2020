{
  "nbformat": 4,
  "nbformat_minor": 0,
  "metadata": {
    "colab": {
      "name": "Untitled15.ipynb",
      "provenance": [],
      "authorship_tag": "ABX9TyMa4DaU/8gJdMp5hdbr63l/",
      "include_colab_link": true
    },
    "kernelspec": {
      "name": "python3",
      "display_name": "Python 3"
    }
  },
  "cells": [
    {
      "cell_type": "markdown",
      "metadata": {
        "id": "view-in-github",
        "colab_type": "text"
      },
      "source": [
        "<a href=\"https://colab.research.google.com/github/nuri35/bby162-2020/blob/master/test1.ipynb\" target=\"_parent\"><img src=\"https://colab.research.google.com/assets/colab-badge.svg\" alt=\"Open In Colab\"/></a>"
      ]
    },
    {
      "cell_type": "code",
      "metadata": {
        "id": "AyHSx8gxO1bS",
        "colab_type": "code",
        "colab": {
          "base_uri": "https://localhost:8080/",
          "height": 85
        },
        "outputId": "8e0c777c-871a-46d2-9cec-4604796e895d"
      },
      "source": [
        "urunAdi = \"Bisiklet\"\n",
        "urunBedeliAvro = 850\n",
        "kurAvro = 7\n",
        "urunAdet = 3\n",
        "pesinAdetIndirimTL = 500\n",
        "butce = 15000\n",
        "\n",
        "peşinAlma = (urunBedeliAvro * kurAvro) * urunAdet - pesinAdetIndirimTL\n",
        "print(peşinAlma)\n",
        "print(\"Bütçeniz: \" + str(butce))\n",
        "print(\"Toplam Satın Alma Bedeli: \" + str(peşinAlma))\n",
        "sonuc = butce > peşinAlma \n",
        "print(\"Alabilirmisiniz\" + str(sonuc))"
      ],
      "execution_count": 16,
      "outputs": [
        {
          "output_type": "stream",
          "text": [
            "17350\n",
            "Bütçeniz: 15000\n",
            "Toplam Satın Alma Bedeli: 17350\n",
            "AlabilirmisinizFalse\n"
          ],
          "name": "stdout"
        }
      ]
    }
  ]
}