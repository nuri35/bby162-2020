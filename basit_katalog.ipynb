{
  "nbformat": 4,
  "nbformat_minor": 0,
  "metadata": {
    "colab": {
      "name": "basit_katalog.ipynb",
      "provenance": [],
      "collapsed_sections": [],
      "mount_file_id": "15lJvd5LR55rF7RFR1a9bsQASFNgx_t5d",
      "authorship_tag": "ABX9TyOijRcCavCINRcgSeeOClIb",
      "include_colab_link": true
    },
    "kernelspec": {
      "name": "python3",
      "display_name": "Python 3"
    }
  },
  "cells": [
    {
      "cell_type": "markdown",
      "metadata": {
        "id": "view-in-github",
        "colab_type": "text"
      },
      "source": [
        "<a href=\"https://colab.research.google.com/github/nuri35/BBY162-2020/blob/master/basit_katalog.ipynb\" target=\"_parent\"><img src=\"https://colab.research.google.com/assets/colab-badge.svg\" alt=\"Open In Colab\"/></a>"
      ]
    },
    {
      "cell_type": "code",
      "metadata": {
        "id": "R-rRVLf7669Y",
        "colab_type": "code",
        "outputId": "292f2df4-1806-41a0-8a71-11991cbeb34d",
        "colab": {
          "base_uri": "https://localhost:8080/",
          "height": 141
        }
      },
      "source": [
        "import re\n",
        "\n",
        "from google.colab import drive\n",
        "drive.mount('/gdrive')\n",
        "\n",
        "\n",
        "dosya = \"/gdrive/My Drive/Colab Notebooks/BBY162 - Programlama ve Algoritmalar/kitap_listesi.txt\"\n",
        "\n",
        "KullaniciAdi = \"Nurettin\"\n",
        "Sifre = \"1234\"\n",
        "gAdi = input(\"Kullanıcı Adınızı Giriniz: \")\n",
        "gSifre = input(\"Şifrenizi Giriniz: \")\n",
        "\n",
        "if gAdi == KullaniciAdi and gSifre == Sifre:\n",
        "    print(\"Hoş Geldiniz\")\n",
        "\n",
        "    defeserkaydet = \"bir\"\n",
        "    defeserarama = \"iki\"\n",
        "    eserkaydet = input(\"Eser kaydetmek için bir eser aramak için iki tıkla \")\n",
        "\n",
        "\n",
        "    if (defeserkaydet == eserkaydet):\n",
        "      print(\"eser kaydetme sistemine hosgeldınız\")\n",
        "\n",
        "      \n",
        "      f = open(dosya, 'a' ,encoding='latin5')\n",
        "\n",
        "      f.write(\"\\n\" + \"\\n\")\n",
        "      f.close()\n",
        "\n",
        "      f = open(dosya, 'a' ,encoding='latin5')\n",
        "      giris = input(\"Eser adı\")\n",
        "      f.write(\"\\nEser Adı:\" \" \"+ giris + \"\\n\")\n",
        "      giris = input(\"Yazar adı\")\n",
        "      f.write(\"Yazar Adı:\" \" \"+ giris + \"\\n\")\n",
        "      giris = input(\"Basım Yılı\")\n",
        "      f.write(\"Basım Yılı:\" \" \"+ giris + \"\\n\")\n",
        "      giris = input(\"ISBN Kodu\")\n",
        "      f.write(\"ISBN Kodu:\" \" \"+ giris + \"\\n\")\n",
        "      giris = input(\"Yayın Evi\")\n",
        "      print(\" kataloğa kaydedildi\")\n",
        "      f.write(\"Yayın Evi:\" \" \"+ giris + \"\\n\")\n",
        "\n",
        "      f = open(dosya, \"r\" ,encoding='latin5') \n",
        "\n",
        "      for line in f.readlines():\n",
        "        print(line)\n",
        "\n",
        "      f.close()\n",
        "\n",
        "\n",
        "\n",
        "\n",
        "\n",
        "#elif (defeserarama == eserkaydet):\n",
        "  #print(\"eser arama sistemine hoş geldiniz\")\n",
        "#guncellenecektir final sınavında\n",
        "#eserler = \"yalan, Berci Kristin Çöp Masalları, Mithat Cemal Kuntay, Orhan Kemal, Murat Uyurkulak, asd\"\n",
        "#cumle = input(\"bir eser adı giriniz\")\n",
        "\n",
        "#sonuc=re.findall(cumle,eserler) #aranacak ifade ve nerde aranacak\n",
        "#print(sonuc)\n",
        "#print(\"aranan ifade sayısı:\",len(sonuc))\n",
        "\n",
        "  #f = open(dosya, \"r\" ,encoding='latin5')\n",
        " # f.seek(0)\n",
        "  #print(f.read(101))\n",
        " \n",
        "    if eserkaydet == \"iki\":\n",
        "      kullanici = input(\"Bulmak İstediğiniz Eserin Yazar Adını Yazınız: \").casefold() \n",
        "      if kullanici == \"Tahsin Yücel\".casefold():\n",
        "        print(\"Tahsin Yücel -- Yalan -- 2005 --  9789750701542 --  Can Yayın Evi\")\n",
        "      elif kullanici == \"Latife Tekin\".casefold():\n",
        "        print(\"Latife Tekin -- Berci Kristin Çöp Masalları -- 9789750738722 -- Can Yayın Evi\")\n",
        "      elif kullanici == \"Mithat Cemal Kuntay\".casefold():\n",
        "        print(\"Mithat Cemal Kuntay -- Üç İstanbul -- 2002 -- 9789753299053 -- isem yayıncılık\")\n",
        "      elif kullanici == \"Orhan Kemal\".casefold():\n",
        "        print(\"Orhan Kemal -- Murtaza -- 2005 -- 9789752893795 -- Everest Yayınları\")\n",
        "      elif kullanici == \"Murat Uyurkulak\".casefold():\n",
        "        print(\"Murat Uyurkulak -- Murat Uyurkulak -- 2004 -- 123123312123 -- can\")\n",
        "      else:\n",
        "        print(\"Yazar Adı Kataloğumuzda Bulunmamaktadır...\")\n",
        "\n",
        "\n",
        "\n",
        "else:\n",
        "    print(\"Kullanıcı Adınızı veya Şifrenizi Yanlış Girdiniz.\\nLütfen Tekrardan Deneyiniz...\")\n",
        " \n",
        "\n",
        "      \n"
      ],
      "execution_count": 102,
      "outputs": [
        {
          "output_type": "stream",
          "text": [
            "Drive already mounted at /gdrive; to attempt to forcibly remount, call drive.mount(\"/gdrive\", force_remount=True).\n",
            "Kullanıcı Adınızı Giriniz: Nurettin\n",
            "Şifrenizi Giriniz: 1234\n",
            "Hoş Geldiniz\n",
            "Eser kaydetmek için bir eser aramak için iki tıkla iki\n",
            "Bulmak İstediğiniz Eserin Yazar Adını Yazınız: Murat Uyurkulak\n",
            "Murat Uyurkulak -- Murat Uyurkulak -- 2004 -- 123123312123 -- can\n"
          ],
          "name": "stdout"
        }
      ]
    }
  ]
}