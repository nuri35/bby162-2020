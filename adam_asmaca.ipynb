{
  "nbformat": 4,
  "nbformat_minor": 0,
  "metadata": {
    "colab": {
      "name": "adam_asmaca.jpynb",
      "provenance": [],
      "collapsed_sections": [],
      "authorship_tag": "ABX9TyNlQ622jAOyOdlq1sVov0Z2",
      "include_colab_link": true
    },
    "kernelspec": {
      "name": "python3",
      "display_name": "Python 3"
    }
  },
  "cells": [
    {
      "cell_type": "markdown",
      "metadata": {
        "id": "view-in-github",
        "colab_type": "text"
      },
      "source": [
        "<a href=\"https://colab.research.google.com/github/nuri35/bby162-2020/blob/master/adam_asmaca.ipynb\" target=\"_parent\"><img src=\"https://colab.research.google.com/assets/colab-badge.svg\" alt=\"Open In Colab\"/></a>"
      ]
    },
    {
      "cell_type": "code",
      "metadata": {
        "id": "RKUg8oHrdW6h",
        "colab_type": "code",
        "outputId": "039bb139-92e8-49f0-ee87-e972cd06b7ce",
        "colab": {
          "base_uri": "https://localhost:8080/",
          "height": 561
        }
      },
      "source": [
        "from random import randint\n",
        "\n",
        "\n",
        "\n",
        "\n",
        "while True:\n",
        "  print(\"#\"*80)\n",
        "  print(\"#\"*30 + \"Kelime Tahmin Oyunu \"+\"#\"*29)\n",
        "  print(\"#\"*80 )\n",
        "  break\n",
        "\n",
        "\n",
        "kelimeler = choice  ( [\"armut\",\"istanbul\",\"Malatya\",\"karpuz\"] )\n",
        "kelimeler = kelimeler.upper()\n",
        "harfsayisi = len(kelimeler)\n",
        "print(\"\\nkelimemiz {} harflidir.\\n\\n\".format(harfsayisi))\n",
        "\n",
        "\n",
        "tahminler = []\n",
        "hata = []\n",
        "\n",
        "deneme = 3\n",
        "\n",
        "while deneme > 0 :\n",
        "\n",
        "\n",
        "\n",
        "    tabela=\"\"\n",
        "\n",
        "    for harf in kelimeler :\n",
        "      if harf in tahminler:\n",
        "        tabela = tabela + harf \n",
        "      else:\n",
        "        tabela = tabela + \"_\"\n",
        "    if tabela == kelimeler:\n",
        "      print(\"kelimeyi dogru bıldın bravo\")\n",
        "      break\n",
        "\n",
        "    print(\"kelimeyi tahmin ediniz\",tabela)\n",
        "    print(deneme,\"canın kaldı\")\n",
        "\n",
        "    tahmin = input(\"bir harf tahmin et\\n>>>\")\n",
        "    tahmin = tahmin.upper()\n",
        "\n",
        "\n",
        "    if tahmin == kelimeler:\n",
        "      print(\"bravo\")\n",
        "      break\n",
        "\n",
        "    if tahmin in tahminler or tahmin in hata:\n",
        "      print(\"{} daha once soylendi.Lutfen Baska Bir Harf Soyle \".format(tahmin))\n",
        "    elif tahmin in kelimeler:\n",
        "      rpt = kelimeler.count(tahmin)\n",
        "      print(\"dogru bravo..{0} harfi kelimemiz içerisinde {1} kere geçiyor\".format(tahmin,rpt))\n",
        "      tahminler.append(tahmin)\n",
        "\n",
        "    else:\n",
        "      print(\"yanlıs. kelimede bu harf yok\")\n",
        "      hata.append(tahmin)\n",
        "      deneme = deneme -1\n",
        "\n",
        "    if deneme == 0:\n",
        "      print(\"hakkınız kalmadı maalesef\")\n",
        "      print(\"kelimemiz {}\".format(kelimeler))\n",
        "      \n",
        "\n",
        "\n",
        "\n",
        "  \n"
      ],
      "execution_count": 0,
      "outputs": [
        {
          "output_type": "stream",
          "text": [
            "################################################################################\n",
            "##############################Kelime Tahmin Oyunu #############################\n",
            "################################################################################\n",
            "\n",
            "kelimemiz 8 harflidir.\n",
            "\n",
            "\n",
            "kelimeyi tahmin ediniz ________\n",
            "3 canın kaldı\n",
            "bir harf tahmin et\n",
            ">>>a\n",
            "dogru bravo..A harfi kelimemiz içerisinde 1 kere geçiyor\n",
            "kelimeyi tahmin ediniz ___A____\n",
            "3 canın kaldı\n",
            "bir harf tahmin et\n",
            ">>>i\n",
            "dogru bravo..I harfi kelimemiz içerisinde 1 kere geçiyor\n",
            "kelimeyi tahmin ediniz I__A____\n",
            "3 canın kaldı\n",
            "bir harf tahmin et\n",
            ">>>s\n",
            "dogru bravo..S harfi kelimemiz içerisinde 1 kere geçiyor\n",
            "kelimeyi tahmin ediniz IS_A____\n",
            "3 canın kaldı\n",
            "bir harf tahmin et\n",
            ">>>t\n",
            "dogru bravo..T harfi kelimemiz içerisinde 1 kere geçiyor\n",
            "kelimeyi tahmin ediniz ISTA____\n",
            "3 canın kaldı\n",
            "bir harf tahmin et\n",
            ">>>istanbul\n",
            "bravo\n"
          ],
          "name": "stdout"
        }
      ]
    }
  ]
}